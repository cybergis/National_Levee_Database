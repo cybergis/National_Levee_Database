{
 "cells": [
  {
   "cell_type": "code",
   "execution_count": null,
   "id": "3bcb6c8a",
   "metadata": {},
   "outputs": [],
   "source": [
    "#https://gis.stackexchange.com/questions/13029/converting-arcgis-server-json-to-geojson\n",
    "#https://gis.stackexchange.com/questions/266897/how-to-get-around-the-1000-objectids-limit-on-arcgis-server"
   ]
  },
  {
   "cell_type": "code",
   "execution_count": null,
   "id": "c6e63c6b-6349-4ab6-8a68-cc287631a85b",
   "metadata": {},
   "outputs": [],
   "source": [
    "import os\n",
    "import requests\n",
    "import pandas as pd\n",
    "from werkzeug.utils import secure_filename\n",
    "from osgeo import ogr"
   ]
  },
  {
   "cell_type": "code",
   "execution_count": null,
   "id": "0966bb20-8e46-44a4-804c-bdb9938427e9",
   "metadata": {},
   "outputs": [],
   "source": [
    "url_feature_server = \"https://ags03.sec.usace.army.mil/server/rest/services/NLD2_PUBLIC/FeatureServer/\"\n",
    "layer_def = requests.get(url_feature_server + '/?f=pjson').json()\n",
    "\n",
    "df = pd.DataFrame(layer_def[\"layers\"])\n",
    "df"
   ]
  },
  {
   "cell_type": "code",
   "execution_count": null,
   "id": "10bb9a9a-5b22-4736-8fdf-fd072a613f7f",
   "metadata": {},
   "outputs": [],
   "source": [
    "download_folder = os.path.abspath(\"./download\")"
   ]
  },
  {
   "cell_type": "code",
   "execution_count": null,
   "id": "718c5811-b050-45a3-ba45-81b027da4b6f",
   "metadata": {},
   "outputs": [],
   "source": [
    "!mkdir -p {download_folder}"
   ]
  },
  {
   "cell_type": "code",
   "execution_count": null,
   "id": "35b9f756-4399-4b68-9fe6-49e3198c264a",
   "metadata": {
    "scrolled": true,
    "tags": []
   },
   "outputs": [],
   "source": [
    "#id_list = [1]\n",
    "id_list = range(0, df.shape[0])\n",
    "\n",
    "\n",
    "def featurelayer2shapefile_ogr(featurelayer_url, shapefile_path):\n",
    "\n",
    "    \n",
    "    #ogr2ogr -overwrite -f 'ESRI Shapefile' <Shapefile> <ArcServerFeatureServer>/<LayerID>/query/?where=1+%3D+1&outfields=*&f=geojson&resultRecordCount=1000&orderByFields=OBJECTID+ASC\n",
    "    \n",
    "    query_url = '{}/query/?where=1+%3D+1&outfields=*&f=geojson&resultRecordCount=1000&orderByFields=OBJECTID+ASC'.format(featurelayer_url)\n",
    "    print(query_url)\n",
    "    ds = ogr.Open(query_url)\n",
    "    layer = ds.GetLayerByIndex(0)\n",
    "    feature_count = layer.GetFeatureCount()\n",
    "    print(\"Input Feature Count: {:,}\".format(feature_count))\n",
    "    driver_out = ogr.GetDriverByName(\"ESRI Shapefile\")\n",
    "    # Remove output shapefile if it already exists\n",
    "    if os.path.exists(shapefile_path):\n",
    "        driver_out.DeleteDataSource(shapefile_path)\n",
    "    ds_out = driver_out.CreateDataSource(shapefile_path)\n",
    "    layer_out = ds_out.CopyLayer(layer, \"layer\")\n",
    "    print(\"Output Feature Count: {:,} at {}\".format(layer_out.GetFeatureCount(), shapefile_path))\n",
    "    ds = None\n",
    "    ds_out = None\n",
    "    \n",
    "\n",
    "def row_func(row):\n",
    "    name = row[\"name\"]    \n",
    "    id = row[\"id\"]\n",
    "    if id_list is not None and type(id_list) is list:\n",
    "        if int(id) not in id_list:\n",
    "            return\n",
    "    name_safe = secure_filename(name)\n",
    "    shp_path = os.path.join(download_folder, '{}.shp'.format(name_safe))\n",
    "    print(\"-\"*80)\n",
    "    print(\"id: {}; name: {}; file: {}\".format(id, name, shp_path))\n",
    "    featurelayer_url = \"{}/{}/\".format(url_feature_server, id)\n",
    "    featurelayer2shapefile_ogr(featurelayer_url, shp_path)"
   ]
  },
  {
   "cell_type": "code",
   "execution_count": null,
   "id": "55abce35-975b-447a-9930-394036185f72",
   "metadata": {
    "scrolled": true,
    "tags": []
   },
   "outputs": [],
   "source": [
    "%%time\n",
    "# the bulk download normally takes ~30 mins\n",
    "_ = df.apply(row_func, axis=1)"
   ]
  },
  {
   "cell_type": "code",
   "execution_count": null,
   "id": "882f7605-01de-4771-ac43-e34040819acb",
   "metadata": {},
   "outputs": [],
   "source": [
    "!du {download_folder} -h"
   ]
  },
  {
   "cell_type": "code",
   "execution_count": null,
   "id": "3511cd4e-eb13-4c05-ac96-6e9175eaed3f",
   "metadata": {},
   "outputs": [],
   "source": [
    "!ls {download_folder} -alh"
   ]
  },
  {
   "cell_type": "markdown",
   "id": "e8966d0e-09f0-4ba7-b55a-bebdb5292263",
   "metadata": {},
   "source": [
    "## References\n",
    "\n",
    "https://gis.stackexchange.com/questions/13029/converting-arcgis-server-json-to-geojson\n",
    "\n",
    "https://gis.stackexchange.com/questions/266897/how-to-get-around-the-1000-objectids-limit-on-arcgis-server\n",
    "\n",
    "https://pcjericks.github.io/py-gdalogr-cookbook/vector_layers.html#get-wfs-layers-and-iterate-over-features\n",
    "\n",
    "https://gdal.org/python/\n",
    "\n",
    "https://gdal.org/drivers/vector/geojson.html#vector-geojson\n",
    "\n",
    "https://gdal.org/drivers/vector/esrijson.html#vector-esrijson"
   ]
  },
  {
   "cell_type": "code",
   "execution_count": null,
   "id": "4240af89-d257-4ae5-ba2d-a1962846f83d",
   "metadata": {},
   "outputs": [],
   "source": []
  }
 ],
 "metadata": {
  "kernelspec": {
   "display_name": "Python 3-0.9.0",
   "language": "python",
   "name": "python3-0.9.0"
  },
  "language_info": {
   "codemirror_mode": {
    "name": "ipython",
    "version": 3
   },
   "file_extension": ".py",
   "mimetype": "text/x-python",
   "name": "python",
   "nbconvert_exporter": "python",
   "pygments_lexer": "ipython3",
   "version": "3.8.12"
  }
 },
 "nbformat": 4,
 "nbformat_minor": 5
}
