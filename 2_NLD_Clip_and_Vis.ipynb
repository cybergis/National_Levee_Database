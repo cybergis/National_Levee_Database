{
 "cells": [
  {
   "cell_type": "markdown",
   "id": "7b5c61b1-a612-4a03-a3ee-8379d0a5cdf3",
   "metadata": {},
   "source": [
    "# Clip and Visualize GIS Data from National Levee Database"
   ]
  },
  {
   "cell_type": "markdown",
   "id": "1eb58fba-20b7-4a06-92b4-18ac8f9d12ba",
   "metadata": {},
   "source": [
    "This notebook demonstrates how to clip the [NLD](https://levees.sec.usace.army.mil/#/) GIS data to a user-provided region and perform a quick visualization over clipped data. The official NLD map viewer privides data subset by county. However, for large scale research subsetting data by wateshed is more desirable. In this example, we use the [Ohio River Basin](https://www.sciencebase.gov/catalog/item/5033c153e4b068b9cdc5475e) to clip the NLD data.\n",
    "\n",
    "We assume you have gone through the \"1_NLD_Bulk_Download\" notebook and have the full NLD GIS data donwloaded as shapefiles.\n",
    "\n",
    "<img src=\"statics/images/NLD_subset_by_county.png\" alt=\"drawing\" width=\"600\"/>\n",
    "\n",
    "<img src=\"statics/images/NLD_subset_by_watershed.png\" alt=\"drawing\" width=\"600\"/>"
   ]
  },
  {
   "cell_type": "markdown",
   "id": "7074d305-cdab-4eab-9aec-f0e6aad7aea2",
   "metadata": {},
   "source": [
    "## Inspect original data"
   ]
  },
  {
   "cell_type": "markdown",
   "id": "dd9cec34-5cf5-49f4-a9ec-3189c287c7df",
   "metadata": {},
   "source": [
    "Here we import the libs we will be using"
   ]
  },
  {
   "cell_type": "code",
   "execution_count": null,
   "id": "3b3ae531-ad20-46c7-bd4c-3982e339a16e",
   "metadata": {},
   "outputs": [],
   "source": [
    "import os\n",
    "import json\n",
    "from ipyleaflet import Map, GeoData, basemaps, LayersControl, WidgetControl\n",
    "from ipywidgets import Textarea\n",
    "import geopandas as gpd\n",
    "import matplotlib.pyplot as plt"
   ]
  },
  {
   "cell_type": "markdown",
   "id": "53af37f1-dd51-4ed4-9468-dfaee177099e",
   "metadata": {},
   "source": [
    "We list all the NLD shapefiles we have downloaded in the the first notebook \"1_NLD_Bulk_Download\""
   ]
  },
  {
   "cell_type": "code",
   "execution_count": null,
   "id": "d99aea89-045b-4d2b-af0a-83e66c3f8d06",
   "metadata": {},
   "outputs": [],
   "source": [
    "# the local folder that contains the original NLD shapefiles\n",
    "download_folder = os.path.abspath(\"./download\")\n",
    "!ls {download_folder}/*.shp -alh "
   ]
  },
  {
   "cell_type": "markdown",
   "id": "f3795f06-e4f7-43b1-8bce-c46ef45733d5",
   "metadata": {},
   "source": [
    "Load a NLD layer and the user-provided area (Ohio river basin in this case) using geopandas"
   ]
  },
  {
   "cell_type": "code",
   "execution_count": null,
   "id": "c6e1659b-1f49-45d7-a15b-6d2a6ec0b341",
   "metadata": {},
   "outputs": [],
   "source": [
    "nld_shapefile_path = os.path.join(download_folder, \"Leveed_Areas.shp\")\n",
    "features_gdf = gpd.read_file(nld_shapefile_path)\n",
    "boundary_shp_path = \"./boundary/FHP_Ohio_River_Basin_boundary.shp\"\n",
    "boundary_gdf = gpd.read_file(boundary_shp_path)"
   ]
  },
  {
   "cell_type": "markdown",
   "id": "0c97b4ae-c5c7-4c5d-9a9c-2046d0349e4c",
   "metadata": {},
   "source": [
    "Quick plot the two layers"
   ]
  },
  {
   "cell_type": "code",
   "execution_count": null,
   "id": "43a5c0b2-5c70-429a-add7-a5dabb386120",
   "metadata": {},
   "outputs": [],
   "source": [
    "fig, ax = plt.subplots(figsize=(15, 15))\n",
    "ax.set_xlim(-120, -60)\n",
    "ax.set_ylim(25, 45)\n",
    "boundary_gdf.plot(ax=ax)\n",
    "features_gdf.plot(ax=ax, color=\"red\")"
   ]
  },
  {
   "cell_type": "markdown",
   "id": "98dc85aa-80cd-43c5-816d-4efa8eae6d44",
   "metadata": {},
   "source": [
    "## Subsetting"
   ]
  },
  {
   "cell_type": "markdown",
   "id": "910d6c72-812b-44e6-a745-f09288e40d96",
   "metadata": {},
   "source": [
    "We check how many fearures exist in the original NLD layer"
   ]
  },
  {
   "cell_type": "code",
   "execution_count": null,
   "id": "4a07cb50-da0b-483b-bcc3-c90f60c7796a",
   "metadata": {},
   "outputs": [],
   "source": [
    "features_gdf.shape"
   ]
  },
  {
   "cell_type": "markdown",
   "id": "4d501b80-ec67-42fd-8096-a5b48b47fc71",
   "metadata": {},
   "source": [
    "### 1st Pass - Coarse spatial query using bounding box (RTree)"
   ]
  },
  {
   "cell_type": "code",
   "execution_count": null,
   "id": "b5a7b5b6-94fd-4c0b-ab0b-db70bff2220d",
   "metadata": {},
   "outputs": [],
   "source": [
    "boundary_geom = boundary_gdf.iloc[0].geometry\n",
    "clip_possible_gdf = features_gdf.iloc[features_gdf.sindex.query(boundary_geom)]\n",
    "clip_possible_gdf.shape"
   ]
  },
  {
   "cell_type": "markdown",
   "id": "86b22fec-793a-4da8-8a22-c53ecbb9800b",
   "metadata": {},
   "source": [
    "### 2nd Pass - Precise spatial query "
   ]
  },
  {
   "cell_type": "code",
   "execution_count": null,
   "id": "78af6fca-9a68-497f-ade6-3ebc23292031",
   "metadata": {},
   "outputs": [],
   "source": [
    "clip_exact_gdf = clip_possible_gdf[clip_possible_gdf.geometry.within(boundary_geom)]\n",
    "clip_exact_gdf.shape"
   ]
  },
  {
   "cell_type": "markdown",
   "id": "823ca23b-b018-4db3-92c0-224c0fc016df",
   "metadata": {},
   "source": [
    "### Save subset to a new shapefile"
   ]
  },
  {
   "cell_type": "code",
   "execution_count": null,
   "id": "4ca393ea-5e44-440f-af05-5915b941953f",
   "metadata": {},
   "outputs": [],
   "source": [
    "clipped_folder = os.path.abspath(\"./clipped\")\n",
    "!mkdir -p {clipped_folder}\n",
    "nld_clipped_shp_path = os.path.join(clipped_folder, os.path.basename(nld_shapefile_path))\n",
    "clip_exact_gdf.to_file(nld_clipped_shp_path)\n",
    "!ls {clipped_folder} -alh"
   ]
  },
  {
   "cell_type": "markdown",
   "id": "94ea98b6-2c23-46a2-8356-42c3e5425b97",
   "metadata": {},
   "source": [
    "## Quick Interactive Visualization"
   ]
  },
  {
   "cell_type": "markdown",
   "id": "b8fd4efe-1007-4863-a442-eb28e527f15e",
   "metadata": {},
   "source": [
    "Here we use ipyleaflet to perform a quick interactive visualization on the subset."
   ]
  },
  {
   "cell_type": "code",
   "execution_count": null,
   "id": "6a5a2ca4-174e-4943-b05d-037fa11a5e2c",
   "metadata": {},
   "outputs": [],
   "source": [
    "## Uncomment the codes below to simply geometry if subset is big and visualization is slow\n",
    "\n",
    "# import shapely\n",
    "# def row_func(row):\n",
    "#     return shapely.wkb.loads(\n",
    "#         shapely.wkb.dumps(row.geometry, output_dimension=2)).simplify(0.05)\n",
    "\n",
    "# clip_exact_gdf = gpd.read_file(nld_clipped_shp_path)\n",
    "# clip_exact_gdf[\"geometry\"] = clip_exact_gdf.apply(row_func, axis=1)"
   ]
  },
  {
   "cell_type": "code",
   "execution_count": null,
   "id": "5eed3272-6138-4c1e-82bf-9295dd6bf39c",
   "metadata": {},
   "outputs": [],
   "source": [
    "m = Map(center=(52.3,8.0), zoom = 3, basemap= basemaps.Esri.WorldTopoMap)\n",
    "\n",
    "features_data = GeoData(geo_dataframe = clip_exact_gdf,\n",
    "                   style={'color': 'black', 'fillColor': 'red', 'opacity':0.05, 'weight':1.9, 'dashArray':'2', 'fillOpacity':0.8},\n",
    "                   hover_style={'fillColor': 'yellow' , 'fillOpacity': 1},\n",
    "                   name = 'Boundary')\n",
    "\n",
    "boundary_data = GeoData(geo_dataframe = boundary_gdf,\n",
    "                   style={'color': 'black', 'fillColor': '#3366cc', 'opacity':1, 'weight':1.9, 'dashArray':'2', 'fillOpacity':0.2},\n",
    "                   name = 'Features')\n",
    "m.fit_bounds([[boundary_gdf.bounds.miny[0], boundary_gdf.bounds.minx[0]], [boundary_gdf.bounds.maxy[0], boundary_gdf.bounds.maxx[0]]])\n",
    "testarea = Textarea( value='Click on a feature to see attributes',\n",
    "    placeholder='Type something',\n",
    "    description='String:',\n",
    "    disabled=True)\n",
    "control = WidgetControl(widget=testarea, position='topright')\n",
    "m.add_control(control)\n",
    "def update_html(feature, **kwargs):\n",
    "     testarea.value = '''\n",
    "     {}\n",
    "      '''.format(json.dumps(feature['properties'], indent=1))\n",
    "features_data.on_click(update_html)\n",
    "\n",
    "m.add_layer(boundary_data)\n",
    "m.add_layer(features_data)\n",
    "m.add_control(LayersControl())\n",
    "m"
   ]
  },
  {
   "cell_type": "markdown",
   "id": "939fcc64-a98f-471e-b484-c846a61e9a88",
   "metadata": {},
   "source": [
    "References\n",
    "https://stackoverflow.com/questions/57773092/how-to-plot-several-layers-using-geopandas"
   ]
  }
 ],
 "metadata": {
  "kernelspec": {
   "display_name": "My Test",
   "language": "python",
   "name": "test"
  },
  "language_info": {
   "codemirror_mode": {
    "name": "ipython",
    "version": 3
   },
   "file_extension": ".py",
   "mimetype": "text/x-python",
   "name": "python",
   "nbconvert_exporter": "python",
   "pygments_lexer": "ipython3",
   "version": "3.10.2"
  }
 },
 "nbformat": 4,
 "nbformat_minor": 5
}
