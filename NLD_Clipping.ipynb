{
 "cells": [
  {
   "cell_type": "code",
   "execution_count": 22,
   "id": "3b3ae531-ad20-46c7-bd4c-3982e339a16e",
   "metadata": {},
   "outputs": [],
   "source": [
    "import os\n",
    "import json\n",
    "from ipyleaflet import Map, GeoData, basemaps, LayersControl, WidgetControl\n",
    "from ipywidgets import Textarea\n",
    "import geopandas as gpd"
   ]
  },
  {
   "cell_type": "code",
   "execution_count": 23,
   "id": "c6e1659b-1f49-45d7-a15b-6d2a6ec0b341",
   "metadata": {},
   "outputs": [
    {
     "data": {
      "text/html": [
       "<div>\n",
       "<style scoped>\n",
       "    .dataframe tbody tr th:only-of-type {\n",
       "        vertical-align: middle;\n",
       "    }\n",
       "\n",
       "    .dataframe tbody tr th {\n",
       "        vertical-align: top;\n",
       "    }\n",
       "\n",
       "    .dataframe thead th {\n",
       "        text-align: right;\n",
       "    }\n",
       "</style>\n",
       "<table border=\"1\" class=\"dataframe\">\n",
       "  <thead>\n",
       "    <tr style=\"text-align: right;\">\n",
       "      <th></th>\n",
       "      <th>OBJECTID</th>\n",
       "      <th>LEVEED_ID</th>\n",
       "      <th>LEVEE_STAT</th>\n",
       "      <th>FEATURE_NA</th>\n",
       "      <th>MIN_OVERTO</th>\n",
       "      <th>EGRESS_NUM</th>\n",
       "      <th>COMPUTED_S</th>\n",
       "      <th>Shape__Are</th>\n",
       "      <th>Shape__Len</th>\n",
       "      <th>COMPUTED_1</th>\n",
       "      <th>...</th>\n",
       "      <th>RESPONSIBL</th>\n",
       "      <th>PROJECT_DE</th>\n",
       "      <th>RISK_CHAR_</th>\n",
       "      <th>P2_NUMBERS</th>\n",
       "      <th>AVERAGE_HE</th>\n",
       "      <th>SYSTEM_SUM</th>\n",
       "      <th>PROJ_DESC_</th>\n",
       "      <th>RISK_CHA_1</th>\n",
       "      <th>LAST_UPDAT</th>\n",
       "      <th>geometry</th>\n",
       "    </tr>\n",
       "  </thead>\n",
       "  <tbody>\n",
       "    <tr>\n",
       "      <th>0</th>\n",
       "      <td>1</td>\n",
       "      <td>1806000068</td>\n",
       "      <td>None</td>\n",
       "      <td>West side Madison River South of I-90 N segment</td>\n",
       "      <td>None</td>\n",
       "      <td>NaN</td>\n",
       "      <td>None</td>\n",
       "      <td>0.000005</td>\n",
       "      <td>0.014352</td>\n",
       "      <td>None</td>\n",
       "      <td>...</td>\n",
       "      <td>Three Forks Dyke District</td>\n",
       "      <td>None</td>\n",
       "      <td>None</td>\n",
       "      <td>None</td>\n",
       "      <td>None</td>\n",
       "      <td>None</td>\n",
       "      <td>None</td>\n",
       "      <td>None</td>\n",
       "      <td>None</td>\n",
       "      <td>POLYGON Z ((-111.52498 45.89630 0.00000, -111....</td>\n",
       "    </tr>\n",
       "    <tr>\n",
       "      <th>1</th>\n",
       "      <td>2</td>\n",
       "      <td>1806000067</td>\n",
       "      <td>None</td>\n",
       "      <td>West side Madison River North of I-90</td>\n",
       "      <td>None</td>\n",
       "      <td>NaN</td>\n",
       "      <td>None</td>\n",
       "      <td>0.000049</td>\n",
       "      <td>0.044595</td>\n",
       "      <td>None</td>\n",
       "      <td>...</td>\n",
       "      <td>Three Forks Dyke District</td>\n",
       "      <td>None</td>\n",
       "      <td>None</td>\n",
       "      <td>None</td>\n",
       "      <td>None</td>\n",
       "      <td>None</td>\n",
       "      <td>None</td>\n",
       "      <td>None</td>\n",
       "      <td>None</td>\n",
       "      <td>POLYGON Z ((-111.52827 45.90741 0.00000, -111....</td>\n",
       "    </tr>\n",
       "    <tr>\n",
       "      <th>2</th>\n",
       "      <td>3</td>\n",
       "      <td>1806000066</td>\n",
       "      <td>None</td>\n",
       "      <td>East side Madison River North of I-90</td>\n",
       "      <td>None</td>\n",
       "      <td>NaN</td>\n",
       "      <td>None</td>\n",
       "      <td>0.000855</td>\n",
       "      <td>0.139222</td>\n",
       "      <td>None</td>\n",
       "      <td>...</td>\n",
       "      <td>Madison Dyke and Drain District</td>\n",
       "      <td>None</td>\n",
       "      <td>None</td>\n",
       "      <td>None</td>\n",
       "      <td>None</td>\n",
       "      <td>None</td>\n",
       "      <td>None</td>\n",
       "      <td>None</td>\n",
       "      <td>None</td>\n",
       "      <td>POLYGON Z ((-111.51480 45.91055 0.00000, -111....</td>\n",
       "    </tr>\n",
       "    <tr>\n",
       "      <th>3</th>\n",
       "      <td>4</td>\n",
       "      <td>1806000065</td>\n",
       "      <td>None</td>\n",
       "      <td>East side Madison River South of I-90</td>\n",
       "      <td>None</td>\n",
       "      <td>NaN</td>\n",
       "      <td>None</td>\n",
       "      <td>0.006034</td>\n",
       "      <td>0.567880</td>\n",
       "      <td>None</td>\n",
       "      <td>...</td>\n",
       "      <td>Madison Dyke and Drain District</td>\n",
       "      <td>None</td>\n",
       "      <td>None</td>\n",
       "      <td>None</td>\n",
       "      <td>None</td>\n",
       "      <td>None</td>\n",
       "      <td>None</td>\n",
       "      <td>None</td>\n",
       "      <td>None</td>\n",
       "      <td>POLYGON Z ((-111.44554 45.88636 0.00000, -111....</td>\n",
       "    </tr>\n",
       "    <tr>\n",
       "      <th>4</th>\n",
       "      <td>6</td>\n",
       "      <td>1806000063</td>\n",
       "      <td>None</td>\n",
       "      <td>Town of Ekalaka</td>\n",
       "      <td>None</td>\n",
       "      <td>NaN</td>\n",
       "      <td>None</td>\n",
       "      <td>0.000028</td>\n",
       "      <td>0.023839</td>\n",
       "      <td>None</td>\n",
       "      <td>...</td>\n",
       "      <td>Carter County</td>\n",
       "      <td>None</td>\n",
       "      <td>None</td>\n",
       "      <td>None</td>\n",
       "      <td>None</td>\n",
       "      <td>None</td>\n",
       "      <td>None</td>\n",
       "      <td>None</td>\n",
       "      <td>None</td>\n",
       "      <td>POLYGON Z ((-104.54174 45.88921 0.00000, -104....</td>\n",
       "    </tr>\n",
       "  </tbody>\n",
       "</table>\n",
       "<p>5 rows × 51 columns</p>\n",
       "</div>"
      ],
      "text/plain": [
       "   OBJECTID   LEVEED_ID LEVEE_STAT  \\\n",
       "0         1  1806000068       None   \n",
       "1         2  1806000067       None   \n",
       "2         3  1806000066       None   \n",
       "3         4  1806000065       None   \n",
       "4         6  1806000063       None   \n",
       "\n",
       "                                        FEATURE_NA MIN_OVERTO  EGRESS_NUM  \\\n",
       "0  West side Madison River South of I-90 N segment       None         NaN   \n",
       "1            West side Madison River North of I-90       None         NaN   \n",
       "2            East side Madison River North of I-90       None         NaN   \n",
       "3            East side Madison River South of I-90       None         NaN   \n",
       "4                                  Town of Ekalaka       None         NaN   \n",
       "\n",
       "  COMPUTED_S  Shape__Are  Shape__Len COMPUTED_1  ...  \\\n",
       "0       None    0.000005    0.014352       None  ...   \n",
       "1       None    0.000049    0.044595       None  ...   \n",
       "2       None    0.000855    0.139222       None  ...   \n",
       "3       None    0.006034    0.567880       None  ...   \n",
       "4       None    0.000028    0.023839       None  ...   \n",
       "\n",
       "                        RESPONSIBL PROJECT_DE RISK_CHAR_ P2_NUMBERS  \\\n",
       "0        Three Forks Dyke District       None       None       None   \n",
       "1        Three Forks Dyke District       None       None       None   \n",
       "2  Madison Dyke and Drain District       None       None       None   \n",
       "3  Madison Dyke and Drain District       None       None       None   \n",
       "4                    Carter County       None       None       None   \n",
       "\n",
       "   AVERAGE_HE  SYSTEM_SUM PROJ_DESC_ RISK_CHA_1 LAST_UPDAT  \\\n",
       "0        None        None       None       None       None   \n",
       "1        None        None       None       None       None   \n",
       "2        None        None       None       None       None   \n",
       "3        None        None       None       None       None   \n",
       "4        None        None       None       None       None   \n",
       "\n",
       "                                            geometry  \n",
       "0  POLYGON Z ((-111.52498 45.89630 0.00000, -111....  \n",
       "1  POLYGON Z ((-111.52827 45.90741 0.00000, -111....  \n",
       "2  POLYGON Z ((-111.51480 45.91055 0.00000, -111....  \n",
       "3  POLYGON Z ((-111.44554 45.88636 0.00000, -111....  \n",
       "4  POLYGON Z ((-104.54174 45.88921 0.00000, -104....  \n",
       "\n",
       "[5 rows x 51 columns]"
      ]
     },
     "execution_count": 23,
     "metadata": {},
     "output_type": "execute_result"
    }
   ],
   "source": [
    "features_gdf = gpd.read_file(\"./download/Leveed_Areas.shp\")\n",
    "boundary_gdf = gpd.read_file(\"./boundary/FHP_Ohio_River_Basin_boundary.shp\")\n",
    "\n",
    "features_gdf.head()\n",
    "#gdf_original.hvplot(global_extent=True, frame_height=450, tiles=True)"
   ]
  },
  {
   "cell_type": "code",
   "execution_count": 24,
   "id": "b5a7b5b6-94fd-4c0b-ab0b-db70bff2220d",
   "metadata": {},
   "outputs": [
    {
     "data": {
      "text/plain": [
       "(671, 51)"
      ]
     },
     "execution_count": 24,
     "metadata": {},
     "output_type": "execute_result"
    }
   ],
   "source": [
    "clip_possible_gdf = features_gdf.iloc[features_gdf.sindex.query(boundary_gdf.iloc[0].geometry)]\n",
    "clip_possible_gdf.shape"
   ]
  },
  {
   "cell_type": "code",
   "execution_count": 25,
   "id": "78af6fca-9a68-497f-ade6-3ebc23292031",
   "metadata": {},
   "outputs": [
    {
     "data": {
      "text/plain": [
       "(343, 51)"
      ]
     },
     "execution_count": 25,
     "metadata": {},
     "output_type": "execute_result"
    }
   ],
   "source": [
    "clip_exact_gdf = clip_possible_gdf[clip_possible_gdf.geometry.within(boundary_gdf.iloc[0].geometry)]\n",
    "clip_exact_gdf.shape"
   ]
  },
  {
   "cell_type": "code",
   "execution_count": 28,
   "id": "4ca393ea-5e44-440f-af05-5915b941953f",
   "metadata": {},
   "outputs": [
    {
     "name": "stderr",
     "output_type": "stream",
     "text": [
      "/home/jovyan/work/mycondaenvs/test/lib/python3.10/site-packages/geopandas/io/file.py:362: FutureWarning: pandas.Int64Index is deprecated and will be removed from pandas in a future version. Use pandas.Index with the appropriate dtype instead.\n",
      "  pd.Int64Index,\n"
     ]
    },
    {
     "name": "stdout",
     "output_type": "stream",
     "text": [
      "total 12M\n",
      "drwxr-xr-x 2 jovyan users 4.0K Mar 11 22:24 .\n",
      "drwxr-xr-x 8 jovyan users 4.0K Mar 11 22:24 ..\n",
      "-rw-r--r-- 1 jovyan users   10 Mar 11 22:24 clipped.cpg\n",
      "-rw-r--r-- 1 jovyan users 1.3M Mar 11 22:24 clipped.dbf\n",
      "-rw-r--r-- 1 jovyan users  145 Mar 11 22:24 clipped.prj\n",
      "-rw-r--r-- 1 jovyan users  11M Mar 11 22:24 clipped.shp\n",
      "-rw-r--r-- 1 jovyan users 2.8K Mar 11 22:24 clipped.shx\n"
     ]
    }
   ],
   "source": [
    "clipped_folder = os.path.abspath(\"./clipped\")\n",
    "!mkdir -p {clipped_folder}\n",
    "clip_exact_gdf.to_file(os.path.join(clipped_folder, \"clipped.shp\"))\n",
    "!ls {clipped_folder} -alh"
   ]
  },
  {
   "cell_type": "code",
   "execution_count": null,
   "id": "6a5a2ca4-174e-4943-b05d-037fa11a5e2c",
   "metadata": {},
   "outputs": [],
   "source": [
    "# import shapely\n",
    "# def row_func(row):\n",
    "#     return shapely.wkb.loads(\n",
    "#         shapely.wkb.dumps(row.geometry, output_dimension=2)).simplify(0.1)\n",
    "\n",
    "# gdf_extact[\"geometry\"] = gdf_extact.apply(row_func, axis=1)\n",
    "# gdf_extact.shape"
   ]
  },
  {
   "cell_type": "code",
   "execution_count": 27,
   "id": "5eed3272-6138-4c1e-82bf-9295dd6bf39c",
   "metadata": {},
   "outputs": [
    {
     "data": {
      "application/vnd.jupyter.widget-view+json": {
       "model_id": "41c2eb333d4c430e8b8ce62fe8b64a81",
       "version_major": 2,
       "version_minor": 0
      },
      "text/plain": [
       "Map(center=[52.3, 8.0], controls=(ZoomControl(options=['position', 'zoom_in_text', 'zoom_in_title', 'zoom_out_…"
      ]
     },
     "metadata": {},
     "output_type": "display_data"
    }
   ],
   "source": [
    "m = Map(center=(52.3,8.0), zoom = 3, basemap= basemaps.Esri.WorldTopoMap)\n",
    "\n",
    "features_data = GeoData(geo_dataframe = clip_exact_gdf,\n",
    "                   style={'color': 'black', 'fillColor': 'red', 'opacity':0.05, 'weight':1.9, 'dashArray':'2', 'fillOpacity':0.8},\n",
    "                   hover_style={'fillColor': 'yellow' , 'fillOpacity': 1},\n",
    "                   name = 'Boundary')\n",
    "\n",
    "boundary_data = GeoData(geo_dataframe = boundary_gdf,\n",
    "                   style={'color': 'black', 'fillColor': '#3366cc', 'opacity':1, 'weight':1.9, 'dashArray':'2', 'fillOpacity':0.2},\n",
    "                   name = 'Features')\n",
    "m.fit_bounds([[boundary_gdf.bounds.miny[0], boundary_gdf.bounds.minx[0]], [boundary_gdf.bounds.maxy[0], boundary_gdf.bounds.maxx[0]]])\n",
    "testarea = Textarea( value='Click on a feature to see attributes',\n",
    "    placeholder='Type something',\n",
    "    description='String:',\n",
    "    disabled=True)\n",
    "control = WidgetControl(widget=testarea, position='topright')\n",
    "m.add_control(control)\n",
    "def update_html(feature, **kwargs):\n",
    "     testarea.value = '''\n",
    "     {}\n",
    "      '''.format(json.dumps(feature['properties'], indent=1))\n",
    "features_data.on_click(update_html)\n",
    "\n",
    "m.add_layer(boundary_data)\n",
    "m.add_layer(features_data)\n",
    "m.add_control(LayersControl())\n",
    "m"
   ]
  },
  {
   "cell_type": "code",
   "execution_count": null,
   "id": "7cccbbe4-10c6-4827-a8ed-fdb0f6555349",
   "metadata": {},
   "outputs": [],
   "source": []
  }
 ],
 "metadata": {
  "kernelspec": {
   "display_name": "My Test",
   "language": "python",
   "name": "test"
  },
  "language_info": {
   "codemirror_mode": {
    "name": "ipython",
    "version": 3
   },
   "file_extension": ".py",
   "mimetype": "text/x-python",
   "name": "python",
   "nbconvert_exporter": "python",
   "pygments_lexer": "ipython3",
   "version": "3.10.2"
  }
 },
 "nbformat": 4,
 "nbformat_minor": 5
}
